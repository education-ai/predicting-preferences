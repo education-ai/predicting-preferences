{
 "cells": [
  {
   "cell_type": "code",
   "execution_count": 3,
   "id": "7e8d1f80",
   "metadata": {},
   "outputs": [
    {
     "name": "stderr",
     "output_type": "stream",
     "text": [
      "C:\\Users\\Leo\\AppData\\Local\\Programs\\Python\\Python39\\lib\\site-packages\\requests\\__init__.py:102: RequestsDependencyWarning: urllib3 (1.26.15) or chardet (5.1.0)/charset_normalizer (2.0.9) doesn't match a supported version!\n",
      "  warnings.warn(\"urllib3 ({}) or chardet ({})/charset_normalizer ({}) doesn't match a supported \"\n"
     ]
    }
   ],
   "source": [
    "#!/usr/bin/env python\n",
    "# -*- coding: utf-8 -*-\n",
    "\"\"\"\n",
    "Examines whether prior knowledge is a distractor in prediction tasks\n",
    "\"\"\"\n",
    "__author__ = [\"Leo S. Rüdian\"]\n",
    "__copyright__ = \"2024, Rüdian\"\n",
    "__credits__ = [\"Leo S. Rüdian\"]\n",
    "__license__ = \"Commons Clause\"\n",
    "__version__ = \"1.0.0\"\n",
    "__maintainer__ = [\"Leo S. Rüdian\"]\n",
    "__email__ =[\"ruediasy@informatik.hu-berlin.de\"]\n",
    "__status__ = \"Experimental Setting\"\n",
    "\n",
    "import pandas\n",
    "from sklearn.preprocessing import LabelEncoder, QuantileTransformer\n",
    "from matplotlib import pyplot as plt\n",
    "from matplotlib.colors import ListedColormap\n",
    "import numpy as np\n",
    "from keras.utils import np_utils\n",
    "from sklearn.preprocessing import LabelEncoder\n",
    "from sklearn.ensemble import RandomForestRegressor\n",
    "from sklearn.discriminant_analysis import LinearDiscriminantAnalysis\n",
    "from sklearn.metrics import confusion_matrix,classification_report,mean_absolute_error\n",
    "import seaborn as sn\n",
    "\n",
    "# CSV file\n",
    "file = \"[insert file here].csv\"\n",
    "\n",
    "# add which group should be considered\n",
    "cohort = 'advanced' # 'beginner/advanced'\n",
    "\n",
    "#['PD','TH','GW','GA','CP']\n",
    "step = 0 # [0-4]\n",
    "\n",
    "# load dataset\n",
    "dataset = pandas.read_csv(file,delimiter=\";\")\n",
    "\n",
    "# filter, beginner = 1, advanced = 0\n",
    "if cohort=='beginner': dataset = dataset[dataset['isnew']==1]\n",
    "else: dataset = dataset[dataset['isnew']==0]\n",
    "\n",
    "# remove identifier for prior knowledge\n",
    "del dataset['isnew']\n",
    "\n",
    "# remove sub items used to derive preferences\n",
    "for el in ('pd1;pd2;th1;th2;gw1;gw2;ga1;ga2;cp1;cp2'.split(';')):\n",
    "\t del dataset[el] \n",
    "        \n",
    "data = dataset.values\n"
   ]
  },
  {
   "cell_type": "code",
   "execution_count": 4,
   "id": "8b5a7f97",
   "metadata": {},
   "outputs": [
    {
     "name": "stderr",
     "output_type": "stream",
     "text": [
      "C:\\Users\\Leo\\AppData\\Local\\Programs\\Python\\Python39\\lib\\site-packages\\sklearn\\preprocessing\\_label.py:116: DataConversionWarning: A column-vector y was passed when a 1d array was expected. Please change the shape of y to (n_samples, ), for example using ravel().\n",
      "  y = column_or_1d(y, warn=True)\n",
      "C:\\Users\\Leo\\AppData\\Local\\Programs\\Python\\Python39\\lib\\site-packages\\sklearn\\preprocessing\\_label.py:99: DataConversionWarning: A column-vector y was passed when a 1d array was expected. Please change the shape of y to (n_samples, ), for example using ravel().\n",
      "  y = column_or_1d(y, warn=True)\n",
      "C:\\Users\\Leo\\AppData\\Local\\Programs\\Python\\Python39\\lib\\site-packages\\sklearn\\preprocessing\\_label.py:134: DataConversionWarning: A column-vector y was passed when a 1d array was expected. Please change the shape of y to (n_samples, ), for example using ravel().\n",
      "  y = column_or_1d(y, dtype=self.classes_.dtype, warn=True)\n"
     ]
    },
    {
     "name": "stdout",
     "output_type": "stream",
     "text": [
      "MAE 0.31868131868131866\n",
      "sum explained variance of LDA 88.92000000000002\n",
      "[[ 0  0  0  0  0  0  1  0]\n",
      " [ 0  4  0  1  0  0  0  0]\n",
      " [ 0  0 11  0  1  0  0  0]\n",
      " [ 0  0  0 16  0  0  1  0]\n",
      " [ 0  0  0  0 25  0  0  0]\n",
      " [ 0  0  2  0  0 13  1  0]\n",
      " [ 0  0  0  1  1  0  9  0]\n",
      " [ 0  0  0  1  0  0  0  3]]\n",
      "### Overall ###\n",
      "Acc: 88.63%\n",
      "Acc-Learn: 0.00%\n",
      "              precision    recall  f1-score   support\n",
      "\n",
      "         1.0       0.00      0.00      0.00         1\n",
      "         1.5       1.00      0.80      0.89         5\n",
      "         2.0       0.85      0.92      0.88        12\n",
      "         2.5       0.84      0.94      0.89        17\n",
      "         3.0       0.93      1.00      0.96        25\n",
      "         3.5       1.00      0.81      0.90        16\n",
      "         4.0       0.75      0.82      0.78        11\n",
      "         4.5       1.00      0.75      0.86         4\n",
      "\n",
      "    accuracy                           0.89        91\n",
      "   macro avg       0.80      0.75      0.77        91\n",
      "weighted avg       0.89      0.89      0.89        91\n",
      "\n"
     ]
    },
    {
     "name": "stderr",
     "output_type": "stream",
     "text": [
      "C:\\Users\\Leo\\AppData\\Local\\Programs\\Python\\Python39\\lib\\site-packages\\sklearn\\metrics\\_classification.py:1344: UndefinedMetricWarning: Precision and F-score are ill-defined and being set to 0.0 in labels with no predicted samples. Use `zero_division` parameter to control this behavior.\n",
      "  _warn_prf(average, modifier, msg_start, len(result))\n",
      "C:\\Users\\Leo\\AppData\\Local\\Programs\\Python\\Python39\\lib\\site-packages\\sklearn\\metrics\\_classification.py:1344: UndefinedMetricWarning: Precision and F-score are ill-defined and being set to 0.0 in labels with no predicted samples. Use `zero_division` parameter to control this behavior.\n",
      "  _warn_prf(average, modifier, msg_start, len(result))\n",
      "C:\\Users\\Leo\\AppData\\Local\\Programs\\Python\\Python39\\lib\\site-packages\\sklearn\\metrics\\_classification.py:1344: UndefinedMetricWarning: Precision and F-score are ill-defined and being set to 0.0 in labels with no predicted samples. Use `zero_division` parameter to control this behavior.\n",
      "  _warn_prf(average, modifier, msg_start, len(result))\n"
     ]
    }
   ],
   "source": [
    "# separate data into input and output columns\n",
    "X = data[:,0:105].astype(float)\n",
    "Y = data[:,106:111].astype(float)\n",
    "\n",
    "# select preference as demanded\n",
    "y = Y[:,step:step+1].astype(float)\n",
    "\n",
    "# perform a uniform quantile transform of the dataset\n",
    "trans = QuantileTransformer(n_quantiles=7, output_distribution='uniform') # normal uniform\n",
    "X = trans.fit_transform(X)\n",
    "\n",
    "# Prepare label for visualization\n",
    "y_label = []\n",
    "for i in y.tolist(): \n",
    "    if not str(i[0]) in y_label: y_label.append(str(i[0]))\n",
    "y_label.sort()\n",
    "\n",
    "# Employ LDA to transform features to be separable\n",
    "y_lda = LabelEncoder().fit_transform(y.astype('str'))\n",
    "lda = LinearDiscriminantAnalysis(n_components=5) # adjust components if necessary\n",
    "lda.fit(X,y_lda)\n",
    "X = lda.transform(X)\n",
    "\n",
    "# convert integers to dummy variables (i.e. one hot encoded)\n",
    "encoder = LabelEncoder()\n",
    "encoder.fit(y)\n",
    "encoded_Y = encoder.transform(y)\n",
    "dummy_y = np_utils.to_categorical(encoded_Y)\n",
    "\n",
    "# Splits for cross-validation\n",
    "X2 = X\n",
    "Y2 = dummy_y\n",
    "splits = 5\n",
    "acc_temp = 0\n",
    "acc_temp_learn = 0\n",
    "xlen = int(len(X2)/splits)+1\n",
    "ylen = int(len(Y2)/splits)+1\n",
    "\n",
    "y_true = []\n",
    "y_pred = []\n",
    "\n",
    "for split_pos in range(splits+1):\n",
    "    if split_pos > 0:\n",
    "        \n",
    "        A = X2[:xlen*(split_pos -1)]\n",
    "        A_y = Y2[:ylen*(split_pos -1)]\n",
    "        Test_x = X2[xlen*(split_pos -1):xlen*(split_pos)]\n",
    "        Test_y = Y2[ylen*(split_pos -1):ylen*(split_pos)]\n",
    "        B = X2[xlen*(split_pos)+1:]\n",
    "        B_y = Y2[xlen*(split_pos)+1:]\n",
    "\n",
    "        X_train, Y_train = [],[]\n",
    "        \n",
    "        for i in A: X_train.append(i)\n",
    "        for i in B: X_train.append(i)\n",
    "        for i in A_y: Y_train.append(i)\n",
    "        for i in B_y: Y_train.append(i)\n",
    "        X_train = np.array(X_train)\n",
    "        Y_train = np.array(Y_train)\n",
    "\n",
    "        # model training\n",
    "        model = RandomForestRegressor(random_state=5, max_depth=5,criterion=\"absolute_error\")\n",
    "        model.fit(X_train,Y_train)\n",
    "        scores = model.score(Test_x, Test_y)\n",
    "        \n",
    "        # model evaluation\n",
    "        hit, sums = 0, 0\n",
    "\n",
    "        for i in range(len(Test_x)):\n",
    "            pred = model.predict([Test_x[i]])\n",
    "            true_y = np.argmax(Test_y[i])\n",
    "            pred_y = np.argmax(pred)\n",
    "            y_true.append(true_y)\n",
    "            y_pred.append(pred_y)\n",
    "            if true_y == pred_y: hit += 1\n",
    "            sums += 1  \n",
    "        \n",
    "        acc = float(hit)/float(sums)\n",
    "        acc_temp += acc\n",
    "\n",
    "# Evaluation Metrics\n",
    "test_mae = (mean_absolute_error(y_true, y_pred))\n",
    "conf = confusion_matrix(y_true,y_pred)\n",
    "classification_report_str = (classification_report(y_true, y_pred, target_names=y_label))\n",
    "\n",
    "# Explained Variance Ratio of LDA components\n",
    "EVR = lda.explained_variance_ratio_\n",
    "sm = 0\n",
    "for idx, R in enumerate(EVR):\n",
    "    sm += np.round(R*100,2)\n",
    "\n",
    "print('MAE',test_mae)\n",
    "print('sum explained variance of LDA',sm)\n",
    "print (conf)\n",
    "print ('### Overall ###')\n",
    "print(\"Acc: %.2f%%\" % (acc_temp/splits*100))\n",
    "print(\"Acc-Learn: %.2f%%\" % (acc_temp_learn/splits*100))\n",
    "print(classification_report_str)"
   ]
  },
  {
   "cell_type": "code",
   "execution_count": 5,
   "id": "efba8756",
   "metadata": {},
   "outputs": [
    {
     "data": {
      "image/png": "[encoded data removed]",
      "text/plain": [
       "<Figure size 432x288 with 1 Axes>"
      ]
     },
     "metadata": {
      "needs_background": "light"
     },
     "output_type": "display_data"
    },
    {
     "data": {
      "image/png": "[encoded data removed]",
      "text/plain": [
       "<Figure size 864x864 with 2 Axes>"
      ]
     },
     "metadata": {
      "needs_background": "light"
     },
     "output_type": "display_data"
    }
   ],
   "source": [
    "# plot Histogram\n",
    "plt.hist(y,density=False, edgecolor='white',bins=list(map(float, y_label)))  # density=False would make counts\n",
    "plt.ylabel('Participants')\n",
    "plt.xlabel(['PD','TH','GW','GA','CP'][step]+' preference level');\n",
    "plt.savefig('results/'+['PD','TH','GW','GA','CP'][step]+' '+cohort+'_hist.png',  dpi=300, transparent=True)\n",
    "plt.show()\n",
    "\n",
    "# plot Confusion Matrix\n",
    "plt.figure(figsize=(12,12))\n",
    "plt.title(\"Confusion Matrix \"+['PD','TH','GW','GA','CP'][step]+' '+cohort)\n",
    "plt.xlabel('Predicted Label')\n",
    "plt.ylabel('True Label ')\n",
    "\n",
    "df_cm = pandas.DataFrame(conf, index = [i for i in y_label],  columns = [i for i in y_label]) #,\n",
    "s = sn.heatmap(df_cm, annot=True,cmap='Blues', annot_kws={\"fontsize\":18})#,ax=ax2)\n",
    "s.set(xlabel='Predicted Label', ylabel='True Label')\n",
    "\n",
    "plt.savefig('results/'+['PD','TH','GW','GA','CP'][step]+' '+cohort+'.png',  dpi=300, transparent=True)\n",
    "plt.show()\n",
    "\n",
    "# write report\n",
    "with open('results/'+['PD','TH','GW','GA','CP'][step]+' '+cohort+'_report.txt', \"w\") as file1:\n",
    "    file1.write(\"\\t Evaluation (classification)\\n\"+classification_report_str+\"\\n\")\n",
    "    file1.write(\"\\t Evaluation (regression)\\n \\t MAE:\\t\"+str(round(test_mae,2)))\n",
    "    file1.write('\\t LDA loss:\\t'+str(round(1-sm/100,2))+\"\\n\")\n",
    "    file1.write('\\t Explained Variance:\\t'+str(round(sm/100,2))+\"\\n\")"
   ]
  },
  {
   "cell_type": "code",
   "execution_count": null,
   "id": "b36da0c3",
   "metadata": {},
   "outputs": [],
   "source": []
  }
 ],
 "metadata": {
  "kernelspec": {
   "display_name": "Python 3 (ipykernel)",
   "language": "python",
   "name": "python3"
  },
  "language_info": {
   "codemirror_mode": {
    "name": "ipython",
    "version": 3
   },
   "file_extension": ".py",
   "mimetype": "text/x-python",
   "name": "python",
   "nbconvert_exporter": "python",
   "pygments_lexer": "ipython3",
   "version": "3.9.9"
  }
 },
 "nbformat": 4,
 "nbformat_minor": 5
}
